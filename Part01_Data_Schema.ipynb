{
  "nbformat": 4,
  "nbformat_minor": 0,
  "metadata": {
    "colab": {
      "provenance": []
    },
    "kernelspec": {
      "name": "python3",
      "display_name": "Python 3"
    },
    "language_info": {
      "name": "python"
    }
  },
  "cells": [
    {
      "cell_type": "markdown",
      "source": [
        "<a name=\"cell-id1\"></a>\n",
        "##<h2>**Part 1: Data Schema Enforcement with PySpark**</h2>\n",
        "I use metadata to track schema changes, keeping a table updated with current and expected schemas. When new data arrives, I'd compare it to the expected schema. If there are differences, I'd adjust the data to match, adding new fields or changing data types as needed.\n",
        "\n",
        "Using PySpark, I'd read the metadata and data, compare schemas, transform data accordingly.\n",
        "\n",
        "I'd consider scenarios like adding new fields or updating data types. And for this exercise, I'd use CSV data.\n",
        "\n",
        "This approach ensures our data pipeline stays agile, ready to handle any schema changes that come our way.\n"
      ],
      "metadata": {
        "id": "JCz1BQVp5eOz"
      }
    },
    {
      "cell_type": "code",
      "execution_count": null,
      "metadata": {
        "colab": {
          "base_uri": "https://localhost:8080/"
        },
        "id": "YMGt0jUxsBwe",
        "outputId": "767171ff-3396-4fd9-ba5a-413a7cfcdcfd"
      },
      "outputs": [
        {
          "output_type": "stream",
          "name": "stdout",
          "text": [
            "Collecting pyspark\n",
            "  Downloading pyspark-3.5.1.tar.gz (317.0 MB)\n",
            "\u001b[2K     \u001b[90m━━━━━━━━━━━━━━━━━━━━━━━━━━━━━━━━━━━━━━━━\u001b[0m \u001b[32m317.0/317.0 MB\u001b[0m \u001b[31m2.6 MB/s\u001b[0m eta \u001b[36m0:00:00\u001b[0m\n",
            "\u001b[?25h  Preparing metadata (setup.py) ... \u001b[?25l\u001b[?25hdone\n",
            "Requirement already satisfied: py4j==0.10.9.7 in /usr/local/lib/python3.10/dist-packages (from pyspark) (0.10.9.7)\n",
            "Building wheels for collected packages: pyspark\n",
            "  Building wheel for pyspark (setup.py) ... \u001b[?25l\u001b[?25hdone\n",
            "  Created wheel for pyspark: filename=pyspark-3.5.1-py2.py3-none-any.whl size=317488491 sha256=f79b7c6a358b60958d034efad9396dfc9d4c4dbc9785b719ef7e7af05f1e6d47\n",
            "  Stored in directory: /root/.cache/pip/wheels/80/1d/60/2c256ed38dddce2fdd93be545214a63e02fbd8d74fb0b7f3a6\n",
            "Successfully built pyspark\n",
            "Installing collected packages: pyspark\n",
            "Successfully installed pyspark-3.5.1\n"
          ]
        }
      ],
      "source": [
        "pip install pyspark"
      ]
    },
    {
      "cell_type": "code",
      "source": [
        "#Import libraries\n",
        "from pyspark.sql import SparkSession\n",
        "from pyspark.sql.types import StructType, StructField, StringType, IntegerType,DateType,FloatType\n",
        "from pyspark.sql.functions import lit\n",
        "from pyspark.sql.functions import to_date"
      ],
      "metadata": {
        "id": "IkdSftR3sWxR"
      },
      "execution_count": null,
      "outputs": []
    },
    {
      "cell_type": "code",
      "source": [
        "#Create a Spark session\n",
        "spark = SparkSession.builder \\\n",
        "    .appName(\"Schema Evolution Management\") \\\n",
        "    .getOrCreate()"
      ],
      "metadata": {
        "id": "yRqzp_5HsZcq"
      },
      "execution_count": null,
      "outputs": []
    },
    {
      "cell_type": "code",
      "source": [
        "# Define the expected schema\n",
        "expected_schema = StructType([\n",
        "    StructField(\"EmpID\", IntegerType()),\n",
        "    StructField(\"Name\", StringType()),\n",
        "    StructField(\"Gender\", StringType()),\n",
        "    StructField(\"Date_of_Birth\", StringType()),\n",
        "    StructField(\"Age\", StringType()),\n",
        "    StructField(\"Join_Date\", StringType()),\n",
        "    StructField(\"GROSS\", StringType()),\n",
        "    StructField(\"Net_Pay\", StringType()),\n",
        "    StructField(\"Deduction\", StringType()),\n",
        "    StructField(\"Deduction_percentage\", FloatType()),\n",
        "    StructField(\"Designation\", StringType()),\n",
        "    StructField(\"Department\", StringType()),\n",
        "    #Change the type of the column Date Of Birth\n",
        "    StructField(\"Deduction_percentage\", FloatType()),\n",
        "    StructField(\"Tenure_in_org_in_months\", IntegerType()),\n",
        "    #ADD this two fields\n",
        "    StructField(\"NumberChildren\", StringType()),\n",
        "    StructField(\"Address\", StringType())\n",
        "\n",
        "])"
      ],
      "metadata": {
        "id": "Eny5MFukscni"
      },
      "execution_count": null,
      "outputs": []
    },
    {
      "cell_type": "code",
      "source": [
        "source_data = spark.read.csv(\"Employee.csv\", header=True)\n",
        "\n",
        "# Get the first line of the DataFrame.\n",
        "first_line = source_data.head()\n",
        "\n",
        "# Display the first line.\n",
        "print(first_line)"
      ],
      "metadata": {
        "colab": {
          "base_uri": "https://localhost:8080/"
        },
        "id": "dSjj6ZjgtdTl",
        "outputId": "c3565168-b1ff-4eef-8804-11e7a00bd0c8"
      },
      "execution_count": null,
      "outputs": [
        {
          "output_type": "stream",
          "name": "stdout",
          "text": [
            "Row(EmpID='19575', Name='Keven Norman', Gender='M', Date_of_Birth='3/9/94', Age='25', Join_Date='2/12/19', Tenure_in_org_in_months='7', GROSS='74922', Net_Pay='71494', Deduction='3428', Deduction_percentage='4.58', Designation='Product Operations Analyst.Associate.', Department='IT Product Management & Ops')\n"
          ]
        }
      ]
    },
    {
      "cell_type": "code",
      "source": [
        "#print schema\n",
        "source_data.printSchema()"
      ],
      "metadata": {
        "colab": {
          "base_uri": "https://localhost:8080/"
        },
        "id": "YLu0IQGotqKy",
        "outputId": "d779ffac-ef9f-436c-b9ec-4ab84ae9d566"
      },
      "execution_count": null,
      "outputs": [
        {
          "output_type": "stream",
          "name": "stdout",
          "text": [
            "root\n",
            " |-- EmpID: string (nullable = true)\n",
            " |-- Name: string (nullable = true)\n",
            " |-- Gender: string (nullable = true)\n",
            " |-- Date_of_Birth: string (nullable = true)\n",
            " |-- Age: string (nullable = true)\n",
            " |-- Join_Date: string (nullable = true)\n",
            " |-- Tenure_in_org_in_months: string (nullable = true)\n",
            " |-- GROSS: string (nullable = true)\n",
            " |-- Net_Pay: string (nullable = true)\n",
            " |-- Deduction: string (nullable = true)\n",
            " |-- Deduction_percentage: string (nullable = true)\n",
            " |-- Designation: string (nullable = true)\n",
            " |-- Department: string (nullable = true)\n",
            "\n"
          ]
        }
      ]
    },
    {
      "cell_type": "code",
      "source": [
        "#Show data\n",
        "source_data.show()"
      ],
      "metadata": {
        "colab": {
          "base_uri": "https://localhost:8080/"
        },
        "id": "0B-BCYP2ts8U",
        "outputId": "ddacc3e7-77e7-4e06-a121-fa219708f5a4"
      },
      "execution_count": null,
      "outputs": [
        {
          "output_type": "stream",
          "name": "stdout",
          "text": [
            "+-----+--------------+------+-------------+---+----------+-----------------------+------+-------+---------+--------------------+--------------------+--------------------+\n",
            "|EmpID|          Name|Gender|Date_of_Birth|Age| Join_Date|Tenure_in_org_in_months| GROSS|Net_Pay|Deduction|Deduction_percentage|         Designation|          Department|\n",
            "+-----+--------------+------+-------------+---+----------+-----------------------+------+-------+---------+--------------------+--------------------+--------------------+\n",
            "|19575|  Keven Norman|     M|       3/9/94| 25|   2/12/19|                      7| 74922|  71494|     3428|                4.58|Product Operation...|IT Product Manage...|\n",
            "|19944|Kristin Werner|     F|   23/06/1994| 26|13/01/2020|                      6| 44375|  39971|     4404|                9.92|Platform Operatio...| Platform Operations|\n",
            "|20055|  Avery Barber|     M|   27/02/1996| 24|14/11/2019|                      8| 82263|  77705|     4558|                5.54|Platform Operatio...| Platform Operations|\n",
            "|20058|  Boris Gibson|     M|   29/09/1993| 26|13/01/2020|                      6| 44375|  40164|     4211|                9.49|Platform Operatio...| Platform Operations|\n",
            "|20332|     Leif Mack|     M|       1/5/91| 29|    4/6/18|                     25|235405| 143963|    91442|               38.84|Software Engineer...|Enterprise Access...|\n",
            "|20849|Fredric Peters|     M|   29/04/1988| 32|   7/11/19|                      8| 87300|  57351|    29949|               34.31|LMS Administrator...|Learning & Develo...|\n",
            "|20852| Sherry Bowman|     F|   17/11/1992| 27|13/01/2020|                      6| 44375|  39939|     4436|                  10|Platform Operatio...| Platform Operations|\n",
            "|21115| Donte Richard|     M|   28/02/1996| 24|13/01/2020|                      6| 44375|  41431|     2944|                6.63|Platform Operatio...| Platform Operations|\n",
            "|21437|  Bobby Horton|     M|   13/11/1995| 24|  11/11/19|                      8| 96995|  91930|     5065|                5.22|Technical Solutio...|AmaTec - Weekend TSE|\n",
            "|22043| Kenya Montoya|     F|   24/09/1995| 24|13/01/2020|                      6| 44375|  39976|     4399|                9.91|Platform Operatio...| Platform Operations|\n",
            "|22612|      Ola Lara|     F|      1/11/92| 27|26/09/2019|                      9| 99552|  88551|    11001|               11.05|Technical Solutio...|   AmaTec - EMEA TSE|\n",
            "|22651|  Graham Carey|     M|       1/6/95| 25|13/01/2020|                      6| 44375|  39029|     5346|               12.05|Platform Operatio...| Platform Operations|\n",
            "|22686|  Morgan Owens|     M|   14/05/1994| 26|17/10/2019|                      8| 68880|  65566|     3314|                4.81|Account Service M...|       Americas- AMG|\n",
            "|22689|  Angie Norton|     F|       9/8/90| 29|17/10/2019|                      8|212250| 127263|    84987|               40.04|Software Engineer...|   Corporate Systems|\n",
            "|22708| Jarvis Gamble|     M|   18/10/1992| 27|21/10/2019|                      8| 77795|  70953|     6842|                8.79|Network Administr...|Enterprise Infras...|\n",
            "|22709|  Otto Sweeney|     M|   27/09/1986| 33|21/10/2019|                      8|175533| 128537|    46996|               26.77|Business Systems ...|   Corporate Systems|\n",
            "|22720| Lea Mccormick|     F|   27/08/1988| 31|24/10/2019|                      8| 96367|  91567|     4800|                4.98|Client Service Ma...|       Americas- AMG|\n",
            "|22726|Marvin Mcguire|     M|   18/01/1989| 31|21/10/2019|                      8|162667| 114570|    48097|               29.57|Business Operatio...|        Web Strategy|\n",
            "|22727|  Booker Hodge|     M|      10/8/94| 25|24/10/2019|                      8|106933|  89377|    17556|               16.42|Systems Support E...|           IT DevOps|\n",
            "|22730|    Fanny Reed|     F|   15/02/1996| 24|24/10/2019|                      8| 70417|  65607|     4810|                6.83|Server Tech Servi...|Networks - EMEA I...|\n",
            "+-----+--------------+------+-------------+---+----------+-----------------------+------+-------+---------+--------------------+--------------------+--------------------+\n",
            "only showing top 20 rows\n",
            "\n"
          ]
        }
      ]
    },
    {
      "cell_type": "code",
      "source": [
        "#Compare the current schema with the expected schema\n",
        "if source_data.schema == expected_schema:\n",
        "    print(\"The schema of the loaded DataFrame matches the expected schema.\")\n",
        "else:\n",
        "    print(\"The schema of the loaded DataFrame does not match the expected schema..\")"
      ],
      "metadata": {
        "colab": {
          "base_uri": "https://localhost:8080/"
        },
        "id": "aij0NqDnvB6y",
        "outputId": "21b14b68-bfd8-4abd-86a2-fe8fe29d3313"
      },
      "execution_count": null,
      "outputs": [
        {
          "output_type": "stream",
          "name": "stdout",
          "text": [
            "The schema of the loaded DataFrame does not match the expected schema..\n"
          ]
        }
      ]
    },
    {
      "cell_type": "code",
      "source": [
        "current_schema = source_data.schema"
      ],
      "metadata": {
        "id": "05_KFr6LvEaM"
      },
      "execution_count": null,
      "outputs": []
    },
    {
      "cell_type": "code",
      "source": [
        "#Add new fields to the schema if necessary\n",
        "for field in expected_schema.fields:\n",
        "    if field.name not in [f.name for f in current_schema.fields]:\n",
        "        source_data = source_data.withColumn(field.name, lit(None).cast(field.dataType))"
      ],
      "metadata": {
        "id": "oKpOijhtvHO6"
      },
      "execution_count": null,
      "outputs": []
    },
    {
      "cell_type": "code",
      "source": [
        "#Modify the data type of existing fields if necessary\n",
        "for field in current_schema.fields:\n",
        "    expected_field = next((f for f in expected_schema.fields if f.name == field.name), None)\n",
        "    if expected_field and field.dataType != expected_field.dataType:\n",
        "        source_data = source_data.withColumn(field.name, source_data[field.name].cast(expected_field.dataType))"
      ],
      "metadata": {
        "id": "cL-lYYMlvLCr"
      },
      "execution_count": null,
      "outputs": []
    },
    {
      "cell_type": "code",
      "source": [
        "#Write the transformed data into the target data storage\n",
        "source_data.write.mode(\"overwrite\").parquet(\"transformed_data\")"
      ],
      "metadata": {
        "id": "fFkUEHARvNKb"
      },
      "execution_count": null,
      "outputs": []
    },
    {
      "cell_type": "code",
      "source": [
        "transformed_data = spark.read.parquet(\"transformed_data\")"
      ],
      "metadata": {
        "id": "z-yywzIZvPN8"
      },
      "execution_count": null,
      "outputs": []
    },
    {
      "cell_type": "code",
      "source": [
        "print(\"Schéma des données transformées :\")\n",
        "transformed_data.printSchema()"
      ],
      "metadata": {
        "colab": {
          "base_uri": "https://localhost:8080/"
        },
        "id": "wGsBVe2LvSAM",
        "outputId": "1b31236b-d44a-40c8-9990-4b92b48e2f2b"
      },
      "execution_count": null,
      "outputs": [
        {
          "output_type": "stream",
          "name": "stdout",
          "text": [
            "Schéma des données transformées :\n",
            "root\n",
            " |-- EmpID: integer (nullable = true)\n",
            " |-- Name: string (nullable = true)\n",
            " |-- Gender: string (nullable = true)\n",
            " |-- Date_of_Birth: date (nullable = true)\n",
            " |-- Age: string (nullable = true)\n",
            " |-- Join_Date: string (nullable = true)\n",
            " |-- Tenure_in_org_in_months: integer (nullable = true)\n",
            " |-- GROSS: string (nullable = true)\n",
            " |-- Net_Pay: string (nullable = true)\n",
            " |-- Deduction: string (nullable = true)\n",
            " |-- Deduction_percentage: float (nullable = true)\n",
            " |-- Designation: string (nullable = true)\n",
            " |-- Department: string (nullable = true)\n",
            " |-- NumberChildren: string (nullable = true)\n",
            " |-- Address: string (nullable = true)\n",
            "\n"
          ]
        }
      ]
    },
    {
      "cell_type": "code",
      "source": [
        "print(\"Données transformées :\")\n",
        "transformed_data.show(truncate=False)"
      ],
      "metadata": {
        "colab": {
          "base_uri": "https://localhost:8080/"
        },
        "id": "SwRzVDe8vc0z",
        "outputId": "890952cb-ea53-4087-ae91-6d47edcd566f"
      },
      "execution_count": null,
      "outputs": [
        {
          "output_type": "stream",
          "name": "stdout",
          "text": [
            "Données transformées :\n",
            "+-----+--------------+------+-------------+---+----------+-----------------------+------+-------+---------+--------------------+---------------------------------------+----------------------------------+--------------+-------+\n",
            "|EmpID|Name          |Gender|Date_of_Birth|Age|Join_Date |Tenure_in_org_in_months|GROSS |Net_Pay|Deduction|Deduction_percentage|Designation                            |Department                        |NumberChildren|Address|\n",
            "+-----+--------------+------+-------------+---+----------+-----------------------+------+-------+---------+--------------------+---------------------------------------+----------------------------------+--------------+-------+\n",
            "|19575|Keven Norman  |M     |NULL         |25 |2/12/19   |7                      |74922 |71494  |3428     |4.58                |Product Operations Analyst.Associate.  |IT Product Management & Ops       |NULL          |NULL   |\n",
            "|19944|Kristin Werner|F     |NULL         |26 |13/01/2020|6                      |44375 |39971  |4404     |9.92                |Platform Operations Engineer.Associate.|Platform Operations               |NULL          |NULL   |\n",
            "|20055|Avery Barber  |M     |NULL         |24 |14/11/2019|8                      |82263 |77705  |4558     |5.54                |Platform Operations Engineer.Associate.|Platform Operations               |NULL          |NULL   |\n",
            "|20058|Boris Gibson  |M     |NULL         |26 |13/01/2020|6                      |44375 |40164  |4211     |9.49                |Platform Operations Engineer.Associate.|Platform Operations               |NULL          |NULL   |\n",
            "|20332|Leif Mack     |M     |NULL         |29 |4/6/18    |25                     |235405|143963 |91442    |38.84               |Software Engineer.Senior.              |Enterprise Access Engineering     |NULL          |NULL   |\n",
            "|20849|Fredric Peters|M     |NULL         |32 |7/11/19   |8                      |87300 |57351  |29949    |34.31               |LMS Administrator II..                 |Learning & Development            |NULL          |NULL   |\n",
            "|20852|Sherry Bowman |F     |NULL         |27 |13/01/2020|6                      |44375 |39939  |4436     |10.0                |Platform Operations Engineer.Associate.|Platform Operations               |NULL          |NULL   |\n",
            "|21115|Donte Richard |M     |NULL         |24 |13/01/2020|6                      |44375 |41431  |2944     |6.63                |Platform Operations Engineer.Associate.|Platform Operations               |NULL          |NULL   |\n",
            "|21437|Bobby Horton  |M     |NULL         |24 |11/11/19  |8                      |96995 |91930  |5065     |5.22                |Technical Solutions Engineer.Associate.|AmaTec - Weekend TSE              |NULL          |NULL   |\n",
            "|22043|Kenya Montoya |F     |NULL         |24 |13/01/2020|6                      |44375 |39976  |4399     |9.91                |Platform Operations Engineer.Associate.|Platform Operations               |NULL          |NULL   |\n",
            "|22612|Ola Lara      |F     |NULL         |27 |26/09/2019|9                      |99552 |88551  |11001    |11.05               |Technical Solutions Engineer..         |AmaTec - EMEA TSE                 |NULL          |NULL   |\n",
            "|22651|Graham Carey  |M     |NULL         |25 |13/01/2020|6                      |44375 |39029  |5346     |12.05               |Platform Operations Engineer.Associate.|Platform Operations               |NULL          |NULL   |\n",
            "|22686|Morgan Owens  |M     |NULL         |26 |17/10/2019|8                      |68880 |65566  |3314     |4.81                |Account Service Manager..              |Americas- AMG                     |NULL          |NULL   |\n",
            "|22689|Angie Norton  |F     |NULL         |29 |17/10/2019|8                      |212250|127263 |84987    |40.04               |Software Engineer.Senior.              |Corporate Systems                 |NULL          |NULL   |\n",
            "|22708|Jarvis Gamble |M     |NULL         |27 |21/10/2019|8                      |77795 |70953  |6842     |8.79                |Network Administrator..                |Enterprise Infrastructure Services|NULL          |NULL   |\n",
            "|22709|Otto Sweeney  |M     |NULL         |33 |21/10/2019|8                      |175533|128537 |46996    |26.77               |Business Systems Analyst.Senior.       |Corporate Systems                 |NULL          |NULL   |\n",
            "|22720|Lea Mccormick |F     |NULL         |31 |24/10/2019|8                      |96367 |91567  |4800     |4.98                |Client Service Manager..               |Americas- AMG                     |NULL          |NULL   |\n",
            "|22726|Marvin Mcguire|M     |NULL         |31 |21/10/2019|8                      |162667|114570 |48097    |29.57               |Business Operations Analyst.Senior.    |Web Strategy                      |NULL          |NULL   |\n",
            "|22727|Booker Hodge  |M     |NULL         |25 |24/10/2019|8                      |106933|89377  |17556    |16.42               |Systems Support Engineer II..          |IT DevOps                         |NULL          |NULL   |\n",
            "|22730|Fanny Reed    |F     |NULL         |24 |24/10/2019|8                      |70417 |65607  |4810     |6.83                |Server Tech Services Engineer..        |Networks - EMEA Infrastructure    |NULL          |NULL   |\n",
            "+-----+--------------+------+-------------+---+----------+-----------------------+------+-------+---------+--------------------+---------------------------------------+----------------------------------+--------------+-------+\n",
            "only showing top 20 rows\n",
            "\n"
          ]
        }
      ]
    }
  ]
}